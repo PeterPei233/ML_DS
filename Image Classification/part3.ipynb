{
 "cells": [
  {
   "cell_type": "markdown",
   "metadata": {},
   "source": [
    "\n",
    "<h1> DS200A Computer Vision Assignment</h1>"
   ]
  },
  {
   "cell_type": "markdown",
   "metadata": {},
   "source": [
    "Author: Junsheng Pei\n",
    "        Nuocheng Lyu\n",
    "        Zihao Yang"
   ]
  },
  {
   "cell_type": "markdown",
   "metadata": {},
   "source": [
    "<h2>  Part Three: Training Models </h2>\t"
   ]
  },
  {
   "cell_type": "code",
   "execution_count": 1,
   "metadata": {},
   "outputs": [],
   "source": [
    "import sklearn.model_selection as model_selection\n",
    "import numpy as np\n",
    "import matplotlib.pyplot as plt\n",
    "from pathlib import Path\n",
    "import pandas as pd\n",
    "import matplotlib\n",
    "import skimage\n",
    "\n",
    "from sklearn.neighbors import KNeighborsClassifier\n",
    "from sklearn.linear_model import LogisticRegression\n",
    "from sklearn.ensemble import RandomForestClassifier\n",
    "from sklearn.datasets import make_classification\n",
    "from sklearn import svm"
   ]
  },
  {
   "cell_type": "code",
   "execution_count": 2,
   "metadata": {},
   "outputs": [],
   "source": [
    "data_file = Path(\"./\", \"feature_matrix.hdf\")\n",
    "feature_matrix_train = pd.read_hdf(data_file, \"train\")\n",
    "feature_matrix_test = pd.read_hdf(data_file, \"test\")"
   ]
  },
  {
   "cell_type": "code",
   "execution_count": 3,
   "metadata": {},
   "outputs": [],
   "source": [
    "def train_test_split(df):  \n",
    "    train_label = df['label']\n",
    "    df = df.drop(columns = ['label'])\n",
    "    X_train, X_val, y_train, y_val = model_selection.train_test_split(df,\n",
    "                train_label, test_size=0.2, random_state=0)\n",
    "        \n",
    "    return X_train ,X_val, y_train, y_val\n",
    "\n",
    "def accuracy(pred, actual):\n",
    "    return sum(pred == actual) / len(pred)\n",
    "# Calculate the accuracy percentage of the predicted values"
   ]
  },
  {
   "cell_type": "markdown",
   "metadata": {},
   "source": [
    "<h3>  Train models using all of the following methods below. Be sure to drop the actual image column, and the encoding</h3>\tTake note of the differences in accuracy, and methods.\n"
   ]
  },
  {
   "cell_type": "code",
   "execution_count": 4,
   "metadata": {},
   "outputs": [],
   "source": [
    "X_train ,X_val, y_train, y_val = train_test_split(feature_matrix_train)"
   ]
  },
  {
   "cell_type": "markdown",
   "metadata": {},
   "source": [
    "Logistic Regression"
   ]
  },
  {
   "cell_type": "code",
   "execution_count": 5,
   "metadata": {},
   "outputs": [
    {
     "name": "stdout",
     "output_type": "stream",
     "text": [
      "training accuracy:  0.23916666666666667\n",
      "test accuracy:  0.22259136212624583\n"
     ]
    },
    {
     "name": "stderr",
     "output_type": "stream",
     "text": [
      "/anaconda3/lib/python3.6/site-packages/sklearn/linear_model/logistic.py:432: FutureWarning: Default solver will be changed to 'lbfgs' in 0.22. Specify a solver to silence this warning.\n",
      "  FutureWarning)\n",
      "/anaconda3/lib/python3.6/site-packages/sklearn/linear_model/logistic.py:459: FutureWarning: Default multi_class will be changed to 'auto' in 0.22. Specify the multi_class option to silence this warning.\n",
      "  \"this warning.\", FutureWarning)\n"
     ]
    }
   ],
   "source": [
    "clf_LR = LogisticRegression(fit_intercept=True)\n",
    "clf_LR.fit(X_train, y_train)\n",
    "\n",
    "y_pred_train = clf_LR.predict(X_train)\n",
    "y_pred_val = clf_LR.predict(X_val)\n",
    "\n",
    "print('training accuracy:  ' + str(accuracy(y_pred_train,y_train)))\n",
    "print('test accuracy:  ' + str(accuracy(y_pred_val,y_val)))"
   ]
  },
  {
   "cell_type": "markdown",
   "metadata": {},
   "source": [
    "K-nearest Neighbors"
   ]
  },
  {
   "cell_type": "code",
   "execution_count": 6,
   "metadata": {},
   "outputs": [
    {
     "name": "stdout",
     "output_type": "stream",
     "text": [
      "when n_neighbors is 1.0000: training accuracy: 1.0000           validation accuracy: 0.2193\n",
      "when n_neighbors is 2.0000: training accuracy: 0.6017           validation accuracy: 0.1927\n",
      "when n_neighbors is 5.0000: training accuracy: 0.4100           validation accuracy: 0.1927\n",
      "when n_neighbors is 7.0000: training accuracy: 0.3642           validation accuracy: 0.1927\n",
      "when n_neighbors is 10.0000: training accuracy: 0.3292           validation accuracy: 0.1960\n",
      "when n_neighbors is 15.0000: training accuracy: 0.2775           validation accuracy: 0.1894\n",
      "when n_neighbors is 20.0000: training accuracy: 0.2817           validation accuracy: 0.1794\n",
      "when n_neighbors is 25.0000: training accuracy: 0.2692           validation accuracy: 0.1595\n",
      "when n_neighbors is 30.0000: training accuracy: 0.2608           validation accuracy: 0.1628\n"
     ]
    }
   ],
   "source": [
    "for i in [1,2,5,7,10,15,20,25,30]:\n",
    "    clf_KNN = KNeighborsClassifier(n_neighbors = i)\n",
    "    clf_KNN.fit(X_train, y_train)\n",
    "\n",
    "    y_pred_train = clf_KNN.predict(X_train)\n",
    "    y_pred_val = clf_KNN.predict(X_val)\n",
    "    print('when n_neighbors is {0:.4f}: training accuracy: {1:.4f} \\\n",
    "          validation accuracy: {2:.4f}'.format(i , accuracy(y_pred_train,y_train), accuracy(y_pred_val,y_val)))"
   ]
  },
  {
   "cell_type": "markdown",
   "metadata": {},
   "source": [
    "Random Forest"
   ]
  },
  {
   "cell_type": "code",
   "execution_count": 7,
   "metadata": {},
   "outputs": [
    {
     "name": "stdout",
     "output_type": "stream",
     "text": [
      "training accuracy:  0.9983333333333333\n",
      "test accuracy:  0.4318936877076412\n"
     ]
    }
   ],
   "source": [
    "clf_forest = RandomForestClassifier(n_estimators=200, max_depth=13, random_state=5)\n",
    "clf_forest.fit(X_train, y_train)\n",
    "print('training accuracy:  ' + str(clf_forest.score(X_train, y_train)))\n",
    "print('test accuracy:  ' + str(clf_forest.score(X_val, y_val)))"
   ]
  },
  {
   "cell_type": "markdown",
   "metadata": {},
   "source": [
    "Support Vector Machine"
   ]
  },
  {
   "cell_type": "code",
   "execution_count": 8,
   "metadata": {},
   "outputs": [
    {
     "name": "stdout",
     "output_type": "stream",
     "text": [
      "test accuracy:  1.0\n",
      "test accuracy:  0.12624584717607973\n"
     ]
    },
    {
     "name": "stderr",
     "output_type": "stream",
     "text": [
      "/anaconda3/lib/python3.6/site-packages/sklearn/svm/base.py:196: FutureWarning: The default value of gamma will change from 'auto' to 'scale' in version 0.22 to account better for unscaled features. Set gamma explicitly to 'auto' or 'scale' to avoid this warning.\n",
      "  \"avoid this warning.\", FutureWarning)\n"
     ]
    }
   ],
   "source": [
    "#clf = svm.SVC(kernel='linear',C = 1)\n",
    "clf_svm = svm.SVC(decision_function_shape = 'ovo', random_state = 0, max_iter = 10000)\n",
    "clf_svm.fit(X_train, y_train)\n",
    "print('test accuracy:  ' + str(clf_svm.score(X_train,y_train)))\n",
    "print('test accuracy:  ' + str((clf_svm.score(X_val,y_val))))"
   ]
  },
  {
   "cell_type": "markdown",
   "metadata": {},
   "source": [
    "## With the the Random Forest, we can get the best validation accuracy 43.2%"
   ]
  },
  {
   "cell_type": "markdown",
   "metadata": {},
   "source": [
    " ### Export the results of test data with Random Forest"
   ]
  },
  {
   "cell_type": "code",
   "execution_count": 9,
   "metadata": {},
   "outputs": [],
   "source": [
    "y_test = clf_forest.predict(feature_matrix_test)"
   ]
  },
  {
   "cell_type": "code",
   "execution_count": 10,
   "metadata": {},
   "outputs": [],
   "source": [
    "# save the numpy array into cvs without the last comma\n",
    "with open('test_results.csv', 'w') as file:\n",
    "    for x in y_test[:-2]:\n",
    "        file.write('{0},'.format(x))\n",
    "    file.write(str(y_test[-1]) )\n",
    "file.close()    "
   ]
  }
 ],
 "metadata": {
  "kernelspec": {
   "display_name": "Python 3",
   "language": "python",
   "name": "python3"
  },
  "language_info": {
   "codemirror_mode": {
    "name": "ipython",
    "version": 3
   },
   "file_extension": ".py",
   "mimetype": "text/x-python",
   "name": "python",
   "nbconvert_exporter": "python",
   "pygments_lexer": "ipython3",
   "version": "3.6.6"
  }
 },
 "nbformat": 4,
 "nbformat_minor": 2
}
