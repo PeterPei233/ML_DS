{
 "cells": [
  {
   "cell_type": "markdown",
   "metadata": {},
   "source": [
    "Author: Junsheng Pei, Nuochen Lye, Zihao Yang "
   ]
  },
  {
   "cell_type": "markdown",
   "metadata": {},
   "source": [
    "<h1> DS200A Computer Vision Assignment</h1>"
   ]
  },
  {
   "cell_type": "markdown",
   "metadata": {},
   "source": [
    "<h2>  Part One: Data Preparation </h2>\t\n"
   ]
  },
  {
   "cell_type": "markdown",
   "metadata": {},
   "source": [
    "<h3>  Import Statements </h3>\t\n"
   ]
  },
  {
   "cell_type": "code",
   "execution_count": 1,
   "metadata": {},
   "outputs": [],
   "source": [
    "#Import anything you need here\n",
    "import numpy as np\n",
    "import matplotlib.pyplot as plt\n",
    "import pandas as pd\n",
    "import matplotlib\n",
    "import skimage\n",
    "from skimage import data\n",
    "from skimage import io\n",
    "import os\n",
    "from pathlib import Path"
   ]
  },
  {
   "cell_type": "markdown",
   "metadata": {},
   "source": [
    "<h4> Using the code for reference, take the given folder and create a dataframe with the picture object, and the encoding as listed below. </h4>\t\n",
    "0=Airplanes, 1=Bear, 2=Blimp, 3=Comet, 4=Crab, 5=Dog, 6=Dolphin, 7=Giraffe, 8=Goat, 9=Gorilla, 10=Kangaroo, 11=Killer-Whale, 12=Leopards, 13=Llama, 14= Penguin, 15= Porcupine, 16=Teddy-Bear, 17=Triceratops, 18=Unicorn, 19=Zebra"
   ]
  },
  {
   "cell_type": "code",
   "execution_count": 3,
   "metadata": {
    "scrolled": true
   },
   "outputs": [],
   "source": [
    "from os import listdir\n",
    "from os.path import isfile, isdir, join\n",
    "import glob\n",
    "\n",
    "# load images from files, and check whether the each image is coded to rgb, if not, covert it to rgb\n",
    "def read_20_training(path='20_categories_training'):\n",
    "    path_types = [f for f in listdir(path) if isdir(join(path, f))]\n",
    "    \n",
    "    df = pd.DataFrame()\n",
    "    df_pic = []\n",
    "    df_label = []\n",
    "    for type_dir in path_types:\n",
    "        type_dir_folder = [i for i in listdir(os.path.join(path, type_dir))]\n",
    "        filename = glob.glob(os.path.join(path, type_dir + '/' + '*.jpg'))\n",
    "        for file in filename:\n",
    "            img = io.imread(file,as_gray= False)\n",
    "            #convert gray image to rgb format\n",
    "            if(len(img.shape) < 3):\n",
    "                img = skimage.color.gray2rgb(img)\n",
    "            df_pic.append(img)\n",
    "            df_label.append(type_dir)\n",
    "\n",
    "    df['pictures'] = df_pic\n",
    "    df['label'] = df_label\n",
    "    \n",
    "    return df"
   ]
  },
  {
   "cell_type": "code",
   "execution_count": 4,
   "metadata": {},
   "outputs": [],
   "source": [
    "def read_organize_data(file_path):\n",
    "    #Fill this function out, should return a dataframe with picture object, and correct encoding\n",
    "    train_df = read_20_training(file_path)\n",
    "    #encode all the categories to numbers from 0-19\n",
    "    dic = {'airplanes': 0,\n",
    "          'bear': 1,\n",
    "          'blimp': 2,\n",
    "          'comet': 3,\n",
    "          'crab': 4,\n",
    "          'dog': 5,\n",
    "          'dolphin': 6,\n",
    "          'giraffe': 7,\n",
    "          'goat': 8,\n",
    "          'gorilla': 9,\n",
    "          'kangaroo': 10,\n",
    "          'killer-whale': 11,\n",
    "          'leopards': 12,\n",
    "          'llama': 13,\n",
    "          'penguin': 14,\n",
    "          'porcupine': 15,\n",
    "          'teddy-bear': 16,\n",
    "          'triceratops': 17,\n",
    "          'unicorn' :18,\n",
    "           'zebra': 19}\n",
    "    train_df['label'] =  train_df['label'].apply(lambda x : dic[x])\n",
    "    return train_df"
   ]
  },
  {
   "cell_type": "code",
   "execution_count": 5,
   "metadata": {
    "scrolled": true
   },
   "outputs": [
    {
     "data": {
      "text/html": [
       "<div>\n",
       "<style scoped>\n",
       "    .dataframe tbody tr th:only-of-type {\n",
       "        vertical-align: middle;\n",
       "    }\n",
       "\n",
       "    .dataframe tbody tr th {\n",
       "        vertical-align: top;\n",
       "    }\n",
       "\n",
       "    .dataframe thead th {\n",
       "        text-align: right;\n",
       "    }\n",
       "</style>\n",
       "<table border=\"1\" class=\"dataframe\">\n",
       "  <thead>\n",
       "    <tr style=\"text-align: right;\">\n",
       "      <th></th>\n",
       "      <th>pictures</th>\n",
       "      <th>label</th>\n",
       "    </tr>\n",
       "  </thead>\n",
       "  <tbody>\n",
       "    <tr>\n",
       "      <th>0</th>\n",
       "      <td>[[[143, 142, 147], [222, 221, 226], [205, 204,...</td>\n",
       "      <td>9</td>\n",
       "    </tr>\n",
       "    <tr>\n",
       "      <th>1</th>\n",
       "      <td>[[[106, 109, 116], [105, 108, 115], [100, 103,...</td>\n",
       "      <td>9</td>\n",
       "    </tr>\n",
       "    <tr>\n",
       "      <th>2</th>\n",
       "      <td>[[[125, 141, 140], [103, 119, 118], [89, 105, ...</td>\n",
       "      <td>9</td>\n",
       "    </tr>\n",
       "    <tr>\n",
       "      <th>3</th>\n",
       "      <td>[[[0, 0, 0], [0, 0, 0], [0, 0, 0], [0, 0, 0], ...</td>\n",
       "      <td>9</td>\n",
       "    </tr>\n",
       "    <tr>\n",
       "      <th>4</th>\n",
       "      <td>[[[119, 122, 103], [104, 107, 88], [102, 105, ...</td>\n",
       "      <td>9</td>\n",
       "    </tr>\n",
       "  </tbody>\n",
       "</table>\n",
       "</div>"
      ],
      "text/plain": [
       "                                            pictures  label\n",
       "0  [[[143, 142, 147], [222, 221, 226], [205, 204,...      9\n",
       "1  [[[106, 109, 116], [105, 108, 115], [100, 103,...      9\n",
       "2  [[[125, 141, 140], [103, 119, 118], [89, 105, ...      9\n",
       "3  [[[0, 0, 0], [0, 0, 0], [0, 0, 0], [0, 0, 0], ...      9\n",
       "4  [[[119, 122, 103], [104, 107, 88], [102, 105, ...      9"
      ]
     },
     "execution_count": 5,
     "metadata": {},
     "output_type": "execute_result"
    }
   ],
   "source": [
    "# load teh training data\n",
    "train_df = read_organize_data('20_categories_training')\n",
    "train_df.head()"
   ]
  },
  {
   "cell_type": "code",
   "execution_count": 8,
   "metadata": {},
   "outputs": [],
   "source": [
    "# load test images\n",
    "def read_20_test(path='20_Validation'):\n",
    "    df = pd.DataFrame()\n",
    "    df_pic = []\n",
    "    \n",
    "    filename = glob.glob(os.path.join(path, '*.jpg'))\n",
    "    size = len(filename)\n",
    "    for i in range(1,size+1):\n",
    "        file = '20_Validation/validation_pic (' + str(i) +').jpg'\n",
    "        img = io.imread(file,as_gray= False)\n",
    "        #convert gray image to rgb format\n",
    "        if(len(img.shape) < 3):\n",
    "            img = skimage.color.gray2rgb(img)\n",
    "        df_pic.append(img)    \n",
    "\n",
    "    df['pictures'] = df_pic\n",
    "    return df"
   ]
  },
  {
   "cell_type": "code",
   "execution_count": 9,
   "metadata": {
    "scrolled": true
   },
   "outputs": [
    {
     "data": {
      "text/html": [
       "<div>\n",
       "<style scoped>\n",
       "    .dataframe tbody tr th:only-of-type {\n",
       "        vertical-align: middle;\n",
       "    }\n",
       "\n",
       "    .dataframe tbody tr th {\n",
       "        vertical-align: top;\n",
       "    }\n",
       "\n",
       "    .dataframe thead th {\n",
       "        text-align: right;\n",
       "    }\n",
       "</style>\n",
       "<table border=\"1\" class=\"dataframe\">\n",
       "  <thead>\n",
       "    <tr style=\"text-align: right;\">\n",
       "      <th></th>\n",
       "      <th>pictures</th>\n",
       "    </tr>\n",
       "  </thead>\n",
       "  <tbody>\n",
       "    <tr>\n",
       "      <th>0</th>\n",
       "      <td>[[[48, 53, 57], [52, 57, 63], [54, 59, 65], [4...</td>\n",
       "    </tr>\n",
       "    <tr>\n",
       "      <th>1</th>\n",
       "      <td>[[[10, 15, 19], [10, 15, 19], [11, 16, 19], [1...</td>\n",
       "    </tr>\n",
       "    <tr>\n",
       "      <th>2</th>\n",
       "      <td>[[[232, 231, 247], [250, 249, 255], [235, 234,...</td>\n",
       "    </tr>\n",
       "    <tr>\n",
       "      <th>3</th>\n",
       "      <td>[[[97, 75, 77], [98, 76, 78], [99, 77, 79], [1...</td>\n",
       "    </tr>\n",
       "    <tr>\n",
       "      <th>4</th>\n",
       "      <td>[[[19, 46, 55], [19, 46, 53], [20, 47, 54], [2...</td>\n",
       "    </tr>\n",
       "  </tbody>\n",
       "</table>\n",
       "</div>"
      ],
      "text/plain": [
       "                                            pictures\n",
       "0  [[[48, 53, 57], [52, 57, 63], [54, 59, 65], [4...\n",
       "1  [[[10, 15, 19], [10, 15, 19], [11, 16, 19], [1...\n",
       "2  [[[232, 231, 247], [250, 249, 255], [235, 234,...\n",
       "3  [[[97, 75, 77], [98, 76, 78], [99, 77, 79], [1...\n",
       "4  [[[19, 46, 55], [19, 46, 53], [20, 47, 54], [2..."
      ]
     },
     "execution_count": 9,
     "metadata": {},
     "output_type": "execute_result"
    }
   ],
   "source": [
    "## load test data\n",
    "test_df = read_20_test()\n",
    "test_df.head()"
   ]
  },
  {
   "cell_type": "code",
   "execution_count": 10,
   "metadata": {},
   "outputs": [
    {
     "name": "stderr",
     "output_type": "stream",
     "text": [
      "/anaconda3/lib/python3.6/site-packages/pandas/core/generic.py:1996: PerformanceWarning: \n",
      "your performance may suffer as PyTables will pickle object types that it cannot\n",
      "map directly to c-types [inferred_type->mixed,key->block0_values] [items->['pictures']]\n",
      "\n",
      "  return pytables.to_hdf(path_or_buf, key, self, **kwargs)\n"
     ]
    }
   ],
   "source": [
    "# save the training dataframe and test data frame to hdf files\n",
    "data_file = Path(\"./\", \"image_data.hdf\") # Path of hdf file\n",
    "train_df.to_hdf(data_file, \"train\") # Train data of hdf file\n",
    "test_df.to_hdf(data_file, \"test\") # Val data of hdf file"
   ]
  }
 ],
 "metadata": {
  "kernelspec": {
   "display_name": "Python 3",
   "language": "python",
   "name": "python3"
  },
  "language_info": {
   "codemirror_mode": {
    "name": "ipython",
    "version": 3
   },
   "file_extension": ".py",
   "mimetype": "text/x-python",
   "name": "python",
   "nbconvert_exporter": "python",
   "pygments_lexer": "ipython3",
   "version": "3.6.6"
  }
 },
 "nbformat": 4,
 "nbformat_minor": 2
}
